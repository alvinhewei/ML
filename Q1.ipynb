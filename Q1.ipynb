{
 "cells": [
  {
   "cell_type": "code",
   "execution_count": 11,
   "metadata": {},
   "outputs": [],
   "source": [
    "import numpy as np"
   ]
  },
  {
   "cell_type": "code",
   "execution_count": 14,
   "metadata": {},
   "outputs": [
    {
     "data": {
      "text/plain": [
       "'C:\\\\Users\\\\Alvin'"
      ]
     },
     "execution_count": 14,
     "metadata": {},
     "output_type": "execute_result"
    }
   ],
   "source": [
    "import os\n",
    "os.path.abspath('.')"
   ]
  },
  {
   "cell_type": "code",
   "execution_count": 19,
   "metadata": {},
   "outputs": [],
   "source": [
    "matrixA=[]\n",
    "\n",
    "for i in open(\"/Users/Alvin/Desktop/ML_lhy/data1/matrixA.txt\"):\n",
    "    row=[int(x) for x in i.split(\",\") ]\n",
    "    matrixA.append(row)\n",
    "\n"
   ]
  },
  {
   "cell_type": "code",
   "execution_count": 23,
   "metadata": {},
   "outputs": [
    {
     "name": "stdout",
     "output_type": "stream",
     "text": [
      "[[8, 4, 2, 3, 5, 4, 4, 2, 6, 6, 7, 1, 3, 3, 5, 6, 8, 3, 9, 4, 9, 9, 2, 5, 3, 2, 6, 6, 5, 2, 6, 7, 7, 5, 9, 3, 5, 8, 8, 9, 5, 7, 7, 8, 1, 6, 3, 8, 4, 3]]\n"
     ]
    }
   ],
   "source": [
    "print(matrixA)"
   ]
  },
  {
   "cell_type": "code",
   "execution_count": 26,
   "metadata": {},
   "outputs": [],
   "source": [
    "matrixB=[]"
   ]
  },
  {
   "cell_type": "code",
   "execution_count": 27,
   "metadata": {},
   "outputs": [],
   "source": [
    "for j in open(\"/Users/Alvin/Desktop/ML_lhy/data1/matrixB.txt\"):\n",
    "    row=[int(x) for x in j.split(\",\") ]\n",
    "    matrixB.append(row)\n"
   ]
  },
  {
   "cell_type": "code",
   "execution_count": 28,
   "metadata": {},
   "outputs": [
    {
     "name": "stdout",
     "output_type": "stream",
     "text": [
      "[[7, 3, 2, 9, 9, 2, 3, 3, 1, 3], [1, 8, 5, 2, 8, 7, 9, 6, 2, 3], [3, 4, 7, 8, 8, 4, 2, 8, 8, 7], [4, 7, 9, 7, 4, 4, 2, 7, 1, 1], [6, 4, 4, 7, 3, 7, 6, 9, 3, 6], [7, 7, 7, 5, 1, 6, 1, 5, 7, 1], [4, 4, 9, 6, 7, 2, 1, 8, 8, 7], [3, 8, 7, 8, 2, 3, 6, 8, 9, 9], [8, 9, 6, 9, 3, 2, 7, 6, 3, 8], [5, 6, 5, 3, 4, 4, 4, 4, 2, 1], [3, 5, 2, 3, 7, 6, 2, 8, 8, 3], [5, 1, 2, 5, 9, 8, 1, 7, 8, 1], [3, 4, 9, 5, 6, 7, 5, 7, 5, 5], [3, 8, 2, 5, 8, 6, 9, 3, 3, 8], [9, 3, 8, 4, 2, 8, 4, 9, 5, 1], [6, 7, 1, 6, 1, 8, 7, 3, 3, 6], [4, 7, 3, 3, 9, 1, 6, 7, 8, 3], [6, 7, 8, 7, 8, 1, 1, 4, 6, 1], [6, 4, 9, 7, 5, 7, 5, 2, 4, 9], [8, 4, 2, 8, 3, 2, 6, 6, 9, 2], [1, 4, 3, 7, 1, 7, 9, 9, 6, 8], [7, 4, 3, 9, 8, 7, 4, 3, 3, 8], [8, 9, 2, 5, 6, 4, 2, 8, 2, 9], [1, 5, 9, 9, 6, 8, 7, 5, 9, 9], [2, 8, 2, 8, 5, 3, 6, 8, 6, 5], [6, 5, 2, 1, 6, 4, 4, 4, 6, 9], [8, 7, 3, 3, 1, 2, 7, 5, 1, 6], [8, 4, 4, 8, 4, 5, 8, 9, 6, 3], [3, 3, 9, 8, 3, 6, 6, 2, 4, 5], [4, 5, 2, 4, 8, 8, 7, 4, 2, 7], [9, 3, 2, 3, 6, 9, 9, 9, 8, 6], [3, 6, 6, 3, 8, 2, 2, 1, 2, 2], [5, 8, 4, 3, 1, 1, 4, 4, 2, 1], [8, 4, 5, 4, 7, 1, 8, 6, 2, 3], [8, 9, 5, 1, 9, 7, 8, 1, 9, 2], [2, 4, 3, 2, 7, 6, 7, 9, 7, 2], [2, 2, 9, 1, 8, 6, 9, 7, 3, 9], [2, 5, 3, 8, 2, 7, 1, 1, 4, 9], [6, 5, 6, 6, 3, 1, 4, 9, 3, 2], [3, 4, 6, 8, 1, 3, 5, 6, 8, 8], [3, 5, 9, 1, 3, 6, 6, 9, 4, 7], [9, 6, 9, 4, 9, 5, 3, 9, 8, 4], [5, 8, 9, 3, 4, 9, 2, 9, 2, 1], [9, 6, 7, 5, 2, 1, 7, 9, 7, 8], [6, 8, 5, 9, 1, 6, 5, 1, 2, 4], [3, 2, 7, 9, 8, 9, 6, 9, 5, 7], [2, 6, 3, 1, 5, 9, 4, 5, 1, 3], [4, 7, 7, 9, 8, 4, 1, 7, 1, 7], [7, 5, 6, 4, 5, 8, 1, 1, 7, 9], [6, 6, 2, 9, 3, 7, 3, 8, 3, 4]]\n"
     ]
    }
   ],
   "source": [
    "print(matrixB)"
   ]
  },
  {
   "cell_type": "code",
   "execution_count": 29,
   "metadata": {},
   "outputs": [],
   "source": [
    "matrixA = np.array(matrixA)"
   ]
  },
  {
   "cell_type": "code",
   "execution_count": 30,
   "metadata": {},
   "outputs": [],
   "source": [
    "matrixB = np.array(matrixB)"
   ]
  },
  {
   "cell_type": "code",
   "execution_count": 31,
   "metadata": {},
   "outputs": [
    {
     "name": "stdout",
     "output_type": "stream",
     "text": [
      "[[8 4 2 3 5 4 4 2 6 6 7 1 3 3 5 6 8 3 9 4 9 9 2 5 3 2 6 6 5 2 6 7 7 5 9 3\n",
      "  5 8 8 9 5 7 7 8 1 6 3 8 4 3]]\n",
      "[[7 3 2 9 9 2 3 3 1 3]\n",
      " [1 8 5 2 8 7 9 6 2 3]\n",
      " [3 4 7 8 8 4 2 8 8 7]\n",
      " [4 7 9 7 4 4 2 7 1 1]\n",
      " [6 4 4 7 3 7 6 9 3 6]\n",
      " [7 7 7 5 1 6 1 5 7 1]\n",
      " [4 4 9 6 7 2 1 8 8 7]\n",
      " [3 8 7 8 2 3 6 8 9 9]\n",
      " [8 9 6 9 3 2 7 6 3 8]\n",
      " [5 6 5 3 4 4 4 4 2 1]\n",
      " [3 5 2 3 7 6 2 8 8 3]\n",
      " [5 1 2 5 9 8 1 7 8 1]\n",
      " [3 4 9 5 6 7 5 7 5 5]\n",
      " [3 8 2 5 8 6 9 3 3 8]\n",
      " [9 3 8 4 2 8 4 9 5 1]\n",
      " [6 7 1 6 1 8 7 3 3 6]\n",
      " [4 7 3 3 9 1 6 7 8 3]\n",
      " [6 7 8 7 8 1 1 4 6 1]\n",
      " [6 4 9 7 5 7 5 2 4 9]\n",
      " [8 4 2 8 3 2 6 6 9 2]\n",
      " [1 4 3 7 1 7 9 9 6 8]\n",
      " [7 4 3 9 8 7 4 3 3 8]\n",
      " [8 9 2 5 6 4 2 8 2 9]\n",
      " [1 5 9 9 6 8 7 5 9 9]\n",
      " [2 8 2 8 5 3 6 8 6 5]\n",
      " [6 5 2 1 6 4 4 4 6 9]\n",
      " [8 7 3 3 1 2 7 5 1 6]\n",
      " [8 4 4 8 4 5 8 9 6 3]\n",
      " [3 3 9 8 3 6 6 2 4 5]\n",
      " [4 5 2 4 8 8 7 4 2 7]\n",
      " [9 3 2 3 6 9 9 9 8 6]\n",
      " [3 6 6 3 8 2 2 1 2 2]\n",
      " [5 8 4 3 1 1 4 4 2 1]\n",
      " [8 4 5 4 7 1 8 6 2 3]\n",
      " [8 9 5 1 9 7 8 1 9 2]\n",
      " [2 4 3 2 7 6 7 9 7 2]\n",
      " [2 2 9 1 8 6 9 7 3 9]\n",
      " [2 5 3 8 2 7 1 1 4 9]\n",
      " [6 5 6 6 3 1 4 9 3 2]\n",
      " [3 4 6 8 1 3 5 6 8 8]\n",
      " [3 5 9 1 3 6 6 9 4 7]\n",
      " [9 6 9 4 9 5 3 9 8 4]\n",
      " [5 8 9 3 4 9 2 9 2 1]\n",
      " [9 6 7 5 2 1 7 9 7 8]\n",
      " [6 8 5 9 1 6 5 1 2 4]\n",
      " [3 2 7 9 8 9 6 9 5 7]\n",
      " [2 6 3 1 5 9 4 5 1 3]\n",
      " [4 7 7 9 8 4 1 7 1 7]\n",
      " [7 5 6 4 5 8 1 1 7 9]\n",
      " [6 6 2 9 3 7 3 8 3 4]]\n"
     ]
    }
   ],
   "source": [
    "print(matrixA)\n",
    "print(matrixB)"
   ]
  },
  {
   "cell_type": "code",
   "execution_count": 32,
   "metadata": {},
   "outputs": [],
   "source": [
    "ans = matrixA.dot(matrixB)"
   ]
  },
  {
   "cell_type": "code",
   "execution_count": 33,
   "metadata": {},
   "outputs": [
    {
     "name": "stdout",
     "output_type": "stream",
     "text": [
      "[[1349 1411 1378 1434 1309 1301 1295 1528 1226 1332]]\n"
     ]
    }
   ],
   "source": [
    "print(ans)"
   ]
  },
  {
   "cell_type": "code",
   "execution_count": 34,
   "metadata": {},
   "outputs": [
    {
     "name": "stdout",
     "output_type": "stream",
     "text": [
      "[[1226 1295 1301 1309 1332 1349 1378 1411 1434 1528]]\n"
     ]
    }
   ],
   "source": [
    "ans.sort(axis=1)\n",
    "print(ans)"
   ]
  },
  {
   "cell_type": "code",
   "execution_count": 35,
   "metadata": {},
   "outputs": [],
   "source": [
    "np.savetxt(\"/Users/Alvin/Desktop/ML_lhy/data1/Q1_ans.txt\", ans, fmt=\"%d\", delimiter=\"\\r\\n\")"
   ]
  }
 ],
 "metadata": {
  "kernelspec": {
   "display_name": "Python 3",
   "language": "python",
   "name": "python3"
  },
  "language_info": {
   "codemirror_mode": {
    "name": "ipython",
    "version": 3
   },
   "file_extension": ".py",
   "mimetype": "text/x-python",
   "name": "python",
   "nbconvert_exporter": "python",
   "pygments_lexer": "ipython3",
   "version": "3.6.4"
  }
 },
 "nbformat": 4,
 "nbformat_minor": 2
}
